{
  "nbformat": 4,
  "nbformat_minor": 0,
  "metadata": {
    "colab": {
      "name": "prism-ner.ipynb",
      "provenance": [],
      "collapsed_sections": [],
      "authorship_tag": "ABX9TyO/AScSxuFZ+HT7mf8nDXJ7",
      "include_colab_link": true
    },
    "kernelspec": {
      "name": "python3",
      "display_name": "Python 3"
    }
  },
  "cells": [
    {
      "cell_type": "markdown",
      "metadata": {
        "id": "view-in-github",
        "colab_type": "text"
      },
      "source": [
        "<a href=\"https://colab.research.google.com/github/iishipatel/customNER-forHomeAutomation/blob/main/prism_ner.ipynb\" target=\"_parent\"><img src=\"https://colab.research.google.com/assets/colab-badge.svg\" alt=\"Open In Colab\"/></a>"
      ]
    },
    {
      "cell_type": "code",
      "metadata": {
        "colab": {
          "base_uri": "https://localhost:8080/"
        },
        "id": "Mo38j0iDyP10",
        "outputId": "0627ab13-ba20-4ca2-8810-60eec61e2fd3"
      },
      "source": [
        "!pip install -U spacy"
      ],
      "execution_count": null,
      "outputs": [
        {
          "output_type": "stream",
          "text": [
            "Collecting spacy\n",
            "\u001b[?25l  Downloading https://files.pythonhosted.org/packages/3a/70/a0b8bd0cb54d8739ba4d6fb3458785c3b9b812b7fbe93b0f10beb1a53ada/spacy-3.0.5-cp37-cp37m-manylinux2014_x86_64.whl (12.8MB)\n",
            "\u001b[K     |████████████████████████████████| 12.8MB 335kB/s \n",
            "\u001b[?25hCollecting catalogue<2.1.0,>=2.0.1\n",
            "  Downloading https://files.pythonhosted.org/packages/48/5c/493a2f3bb0eac17b1d48129ecfd251f0520b6c89493e9fd0522f534a9e4a/catalogue-2.0.1-py3-none-any.whl\n",
            "Collecting pathy>=0.3.5\n",
            "  Downloading https://files.pythonhosted.org/packages/a2/53/97dc0197cca9357369b3b71bf300896cf2d3604fa60ffaaf5cbc277de7de/pathy-0.4.0-py3-none-any.whl\n",
            "Requirement already satisfied, skipping upgrade: setuptools in /usr/local/lib/python3.7/dist-packages (from spacy) (54.0.0)\n",
            "Requirement already satisfied, skipping upgrade: preshed<3.1.0,>=3.0.2 in /usr/local/lib/python3.7/dist-packages (from spacy) (3.0.5)\n",
            "Requirement already satisfied, skipping upgrade: tqdm<5.0.0,>=4.38.0 in /usr/local/lib/python3.7/dist-packages (from spacy) (4.41.1)\n",
            "Requirement already satisfied, skipping upgrade: cymem<2.1.0,>=2.0.2 in /usr/local/lib/python3.7/dist-packages (from spacy) (2.0.5)\n",
            "Requirement already satisfied, skipping upgrade: murmurhash<1.1.0,>=0.28.0 in /usr/local/lib/python3.7/dist-packages (from spacy) (1.0.5)\n",
            "Requirement already satisfied, skipping upgrade: wasabi<1.1.0,>=0.8.1 in /usr/local/lib/python3.7/dist-packages (from spacy) (0.8.2)\n",
            "Collecting thinc<8.1.0,>=8.0.2\n",
            "\u001b[?25l  Downloading https://files.pythonhosted.org/packages/e3/08/20e707519bcded1a0caa6fd024b767ac79e4e5d0fb92266bb7dcf735e338/thinc-8.0.2-cp37-cp37m-manylinux2014_x86_64.whl (1.1MB)\n",
            "\u001b[K     |████████████████████████████████| 1.1MB 41.2MB/s \n",
            "\u001b[?25hRequirement already satisfied, skipping upgrade: blis<0.8.0,>=0.4.0 in /usr/local/lib/python3.7/dist-packages (from spacy) (0.4.1)\n",
            "Collecting srsly<3.0.0,>=2.4.0\n",
            "\u001b[?25l  Downloading https://files.pythonhosted.org/packages/19/54/76982427ceb495dd19ff982c966708c624b85e03c45bf1912feaf60c7b2d/srsly-2.4.0-cp37-cp37m-manylinux2014_x86_64.whl (456kB)\n",
            "\u001b[K     |████████████████████████████████| 460kB 41.5MB/s \n",
            "\u001b[?25hRequirement already satisfied, skipping upgrade: typing-extensions<4.0.0.0,>=3.7.4; python_version < \"3.8\" in /usr/local/lib/python3.7/dist-packages (from spacy) (3.7.4.3)\n",
            "Requirement already satisfied, skipping upgrade: jinja2 in /usr/local/lib/python3.7/dist-packages (from spacy) (2.11.3)\n",
            "Collecting spacy-legacy<3.1.0,>=3.0.0\n",
            "  Downloading https://files.pythonhosted.org/packages/65/d5/6c58fc97f3098775e46d8202bf248752e626a8096a0ae9d76aa7c485a09c/spacy_legacy-3.0.1-py2.py3-none-any.whl\n",
            "Collecting typer<0.4.0,>=0.3.0\n",
            "  Downloading https://files.pythonhosted.org/packages/90/34/d138832f6945432c638f32137e6c79a3b682f06a63c488dcfaca6b166c64/typer-0.3.2-py3-none-any.whl\n",
            "Requirement already satisfied, skipping upgrade: packaging>=20.0 in /usr/local/lib/python3.7/dist-packages (from spacy) (20.9)\n",
            "Requirement already satisfied, skipping upgrade: numpy>=1.15.0 in /usr/local/lib/python3.7/dist-packages (from spacy) (1.19.5)\n",
            "Requirement already satisfied, skipping upgrade: importlib-metadata>=0.20; python_version < \"3.8\" in /usr/local/lib/python3.7/dist-packages (from spacy) (3.7.2)\n",
            "Collecting pydantic<1.8.0,>=1.7.1\n",
            "\u001b[?25l  Downloading https://files.pythonhosted.org/packages/b3/0a/52ae1c659fc08f13dd7c0ae07b88e4f807ad83fb9954a59b0b0a3d1a8ab6/pydantic-1.7.3-cp37-cp37m-manylinux2014_x86_64.whl (9.1MB)\n",
            "\u001b[K     |████████████████████████████████| 9.1MB 27.6MB/s \n",
            "\u001b[?25hRequirement already satisfied, skipping upgrade: requests<3.0.0,>=2.13.0 in /usr/local/lib/python3.7/dist-packages (from spacy) (2.23.0)\n",
            "Collecting smart-open<4.0.0,>=2.2.0\n",
            "\u001b[?25l  Downloading https://files.pythonhosted.org/packages/11/9a/ba2d5f67f25e8d5bbf2fcec7a99b1e38428e83cb715f64dd179ca43a11bb/smart_open-3.0.0.tar.gz (113kB)\n",
            "\u001b[K     |████████████████████████████████| 122kB 50.2MB/s \n",
            "\u001b[?25hRequirement already satisfied, skipping upgrade: MarkupSafe>=0.23 in /usr/local/lib/python3.7/dist-packages (from jinja2->spacy) (1.1.1)\n",
            "Requirement already satisfied, skipping upgrade: click<7.2.0,>=7.1.1 in /usr/local/lib/python3.7/dist-packages (from typer<0.4.0,>=0.3.0->spacy) (7.1.2)\n",
            "Requirement already satisfied, skipping upgrade: pyparsing>=2.0.2 in /usr/local/lib/python3.7/dist-packages (from packaging>=20.0->spacy) (2.4.7)\n",
            "Requirement already satisfied, skipping upgrade: zipp>=0.5 in /usr/local/lib/python3.7/dist-packages (from importlib-metadata>=0.20; python_version < \"3.8\"->spacy) (3.4.1)\n",
            "Requirement already satisfied, skipping upgrade: chardet<4,>=3.0.2 in /usr/local/lib/python3.7/dist-packages (from requests<3.0.0,>=2.13.0->spacy) (3.0.4)\n",
            "Requirement already satisfied, skipping upgrade: idna<3,>=2.5 in /usr/local/lib/python3.7/dist-packages (from requests<3.0.0,>=2.13.0->spacy) (2.10)\n",
            "Requirement already satisfied, skipping upgrade: certifi>=2017.4.17 in /usr/local/lib/python3.7/dist-packages (from requests<3.0.0,>=2.13.0->spacy) (2020.12.5)\n",
            "Requirement already satisfied, skipping upgrade: urllib3!=1.25.0,!=1.25.1,<1.26,>=1.21.1 in /usr/local/lib/python3.7/dist-packages (from requests<3.0.0,>=2.13.0->spacy) (1.24.3)\n",
            "Building wheels for collected packages: smart-open\n",
            "  Building wheel for smart-open (setup.py) ... \u001b[?25l\u001b[?25hdone\n",
            "  Created wheel for smart-open: filename=smart_open-3.0.0-cp37-none-any.whl size=107098 sha256=f2e42e1c8800a320cb0d187ef7ed23e6e22c46089ec70388a5326f07aa129288\n",
            "  Stored in directory: /root/.cache/pip/wheels/18/88/7c/f06dabd5e9cabe02d2269167bcacbbf9b47d0c0ff7d6ebcb78\n",
            "Successfully built smart-open\n",
            "Installing collected packages: catalogue, typer, smart-open, pathy, pydantic, srsly, thinc, spacy-legacy, spacy\n",
            "  Found existing installation: catalogue 1.0.0\n",
            "    Uninstalling catalogue-1.0.0:\n",
            "      Successfully uninstalled catalogue-1.0.0\n",
            "  Found existing installation: smart-open 4.2.0\n",
            "    Uninstalling smart-open-4.2.0:\n",
            "      Successfully uninstalled smart-open-4.2.0\n",
            "  Found existing installation: srsly 1.0.5\n",
            "    Uninstalling srsly-1.0.5:\n",
            "      Successfully uninstalled srsly-1.0.5\n",
            "  Found existing installation: thinc 7.4.0\n",
            "    Uninstalling thinc-7.4.0:\n",
            "      Successfully uninstalled thinc-7.4.0\n",
            "  Found existing installation: spacy 2.2.4\n",
            "    Uninstalling spacy-2.2.4:\n",
            "      Successfully uninstalled spacy-2.2.4\n",
            "Successfully installed catalogue-2.0.1 pathy-0.4.0 pydantic-1.7.3 smart-open-3.0.0 spacy-3.0.5 spacy-legacy-3.0.1 srsly-2.4.0 thinc-8.0.2 typer-0.3.2\n"
          ],
          "name": "stdout"
        }
      ]
    },
    {
      "cell_type": "code",
      "metadata": {
        "colab": {
          "base_uri": "https://localhost:8080/"
        },
        "id": "tiWTM1vOyXTa",
        "outputId": "aa3e2f42-9636-49aa-8309-8b127cb8e756"
      },
      "source": [
        "!python -m spacy download en"
      ],
      "execution_count": null,
      "outputs": [
        {
          "output_type": "stream",
          "text": [
            "2021-03-17 06:05:54.422742: I tensorflow/stream_executor/platform/default/dso_loader.cc:49] Successfully opened dynamic library libcudart.so.11.0\n",
            "\u001b[38;5;3m⚠ As of spaCy v3.0, shortcuts like 'en' are deprecated. Please use the\n",
            "full pipeline package name 'en_core_web_sm' instead.\u001b[0m\n",
            "Collecting en-core-web-sm==3.0.0\n",
            "\u001b[?25l  Downloading https://github.com/explosion/spacy-models/releases/download/en_core_web_sm-3.0.0/en_core_web_sm-3.0.0-py3-none-any.whl (13.7MB)\n",
            "\u001b[K     |████████████████████████████████| 13.7MB 304kB/s \n",
            "\u001b[?25hRequirement already satisfied: spacy<3.1.0,>=3.0.0 in /usr/local/lib/python3.7/dist-packages (from en-core-web-sm==3.0.0) (3.0.5)\n",
            "Requirement already satisfied: pydantic<1.8.0,>=1.7.1 in /usr/local/lib/python3.7/dist-packages (from spacy<3.1.0,>=3.0.0->en-core-web-sm==3.0.0) (1.7.3)\n",
            "Requirement already satisfied: thinc<8.1.0,>=8.0.2 in /usr/local/lib/python3.7/dist-packages (from spacy<3.1.0,>=3.0.0->en-core-web-sm==3.0.0) (8.0.2)\n",
            "Requirement already satisfied: blis<0.8.0,>=0.4.0 in /usr/local/lib/python3.7/dist-packages (from spacy<3.1.0,>=3.0.0->en-core-web-sm==3.0.0) (0.4.1)\n",
            "Requirement already satisfied: wasabi<1.1.0,>=0.8.1 in /usr/local/lib/python3.7/dist-packages (from spacy<3.1.0,>=3.0.0->en-core-web-sm==3.0.0) (0.8.2)\n",
            "Requirement already satisfied: catalogue<2.1.0,>=2.0.1 in /usr/local/lib/python3.7/dist-packages (from spacy<3.1.0,>=3.0.0->en-core-web-sm==3.0.0) (2.0.1)\n",
            "Requirement already satisfied: importlib-metadata>=0.20; python_version < \"3.8\" in /usr/local/lib/python3.7/dist-packages (from spacy<3.1.0,>=3.0.0->en-core-web-sm==3.0.0) (3.7.2)\n",
            "Requirement already satisfied: requests<3.0.0,>=2.13.0 in /usr/local/lib/python3.7/dist-packages (from spacy<3.1.0,>=3.0.0->en-core-web-sm==3.0.0) (2.23.0)\n",
            "Requirement already satisfied: packaging>=20.0 in /usr/local/lib/python3.7/dist-packages (from spacy<3.1.0,>=3.0.0->en-core-web-sm==3.0.0) (20.9)\n",
            "Requirement already satisfied: murmurhash<1.1.0,>=0.28.0 in /usr/local/lib/python3.7/dist-packages (from spacy<3.1.0,>=3.0.0->en-core-web-sm==3.0.0) (1.0.5)\n",
            "Requirement already satisfied: setuptools in /usr/local/lib/python3.7/dist-packages (from spacy<3.1.0,>=3.0.0->en-core-web-sm==3.0.0) (54.0.0)\n",
            "Requirement already satisfied: tqdm<5.0.0,>=4.38.0 in /usr/local/lib/python3.7/dist-packages (from spacy<3.1.0,>=3.0.0->en-core-web-sm==3.0.0) (4.41.1)\n",
            "Requirement already satisfied: numpy>=1.15.0 in /usr/local/lib/python3.7/dist-packages (from spacy<3.1.0,>=3.0.0->en-core-web-sm==3.0.0) (1.19.5)\n",
            "Requirement already satisfied: typer<0.4.0,>=0.3.0 in /usr/local/lib/python3.7/dist-packages (from spacy<3.1.0,>=3.0.0->en-core-web-sm==3.0.0) (0.3.2)\n",
            "Requirement already satisfied: spacy-legacy<3.1.0,>=3.0.0 in /usr/local/lib/python3.7/dist-packages (from spacy<3.1.0,>=3.0.0->en-core-web-sm==3.0.0) (3.0.1)\n",
            "Requirement already satisfied: cymem<2.1.0,>=2.0.2 in /usr/local/lib/python3.7/dist-packages (from spacy<3.1.0,>=3.0.0->en-core-web-sm==3.0.0) (2.0.5)\n",
            "Requirement already satisfied: pathy>=0.3.5 in /usr/local/lib/python3.7/dist-packages (from spacy<3.1.0,>=3.0.0->en-core-web-sm==3.0.0) (0.4.0)\n",
            "Requirement already satisfied: typing-extensions<4.0.0.0,>=3.7.4; python_version < \"3.8\" in /usr/local/lib/python3.7/dist-packages (from spacy<3.1.0,>=3.0.0->en-core-web-sm==3.0.0) (3.7.4.3)\n",
            "Requirement already satisfied: jinja2 in /usr/local/lib/python3.7/dist-packages (from spacy<3.1.0,>=3.0.0->en-core-web-sm==3.0.0) (2.11.3)\n",
            "Requirement already satisfied: preshed<3.1.0,>=3.0.2 in /usr/local/lib/python3.7/dist-packages (from spacy<3.1.0,>=3.0.0->en-core-web-sm==3.0.0) (3.0.5)\n",
            "Requirement already satisfied: srsly<3.0.0,>=2.4.0 in /usr/local/lib/python3.7/dist-packages (from spacy<3.1.0,>=3.0.0->en-core-web-sm==3.0.0) (2.4.0)\n",
            "Requirement already satisfied: zipp>=0.5 in /usr/local/lib/python3.7/dist-packages (from importlib-metadata>=0.20; python_version < \"3.8\"->spacy<3.1.0,>=3.0.0->en-core-web-sm==3.0.0) (3.4.1)\n",
            "Requirement already satisfied: idna<3,>=2.5 in /usr/local/lib/python3.7/dist-packages (from requests<3.0.0,>=2.13.0->spacy<3.1.0,>=3.0.0->en-core-web-sm==3.0.0) (2.10)\n",
            "Requirement already satisfied: chardet<4,>=3.0.2 in /usr/local/lib/python3.7/dist-packages (from requests<3.0.0,>=2.13.0->spacy<3.1.0,>=3.0.0->en-core-web-sm==3.0.0) (3.0.4)\n",
            "Requirement already satisfied: certifi>=2017.4.17 in /usr/local/lib/python3.7/dist-packages (from requests<3.0.0,>=2.13.0->spacy<3.1.0,>=3.0.0->en-core-web-sm==3.0.0) (2020.12.5)\n",
            "Requirement already satisfied: urllib3!=1.25.0,!=1.25.1,<1.26,>=1.21.1 in /usr/local/lib/python3.7/dist-packages (from requests<3.0.0,>=2.13.0->spacy<3.1.0,>=3.0.0->en-core-web-sm==3.0.0) (1.24.3)\n",
            "Requirement already satisfied: pyparsing>=2.0.2 in /usr/local/lib/python3.7/dist-packages (from packaging>=20.0->spacy<3.1.0,>=3.0.0->en-core-web-sm==3.0.0) (2.4.7)\n",
            "Requirement already satisfied: click<7.2.0,>=7.1.1 in /usr/local/lib/python3.7/dist-packages (from typer<0.4.0,>=0.3.0->spacy<3.1.0,>=3.0.0->en-core-web-sm==3.0.0) (7.1.2)\n",
            "Requirement already satisfied: smart-open<4.0.0,>=2.2.0 in /usr/local/lib/python3.7/dist-packages (from pathy>=0.3.5->spacy<3.1.0,>=3.0.0->en-core-web-sm==3.0.0) (3.0.0)\n",
            "Requirement already satisfied: MarkupSafe>=0.23 in /usr/local/lib/python3.7/dist-packages (from jinja2->spacy<3.1.0,>=3.0.0->en-core-web-sm==3.0.0) (1.1.1)\n",
            "Installing collected packages: en-core-web-sm\n",
            "  Found existing installation: en-core-web-sm 2.2.5\n",
            "    Uninstalling en-core-web-sm-2.2.5:\n",
            "      Successfully uninstalled en-core-web-sm-2.2.5\n",
            "Successfully installed en-core-web-sm-3.0.0\n",
            "\u001b[38;5;2m✔ Download and installation successful\u001b[0m\n",
            "You can now load the package via spacy.load('en_core_web_sm')\n"
          ],
          "name": "stdout"
        }
      ]
    },
    {
      "cell_type": "code",
      "metadata": {
        "id": "ofEtCs2fylVF"
      },
      "source": [
        "import json\n",
        "import logging\n",
        "import sys"
      ],
      "execution_count": null,
      "outputs": []
    },
    {
      "cell_type": "code",
      "metadata": {
        "colab": {
          "base_uri": "https://localhost:8080/"
        },
        "id": "0ov6eBpOmRce",
        "outputId": "286f3858-6c59-4810-cb92-4ffbb5aae985"
      },
      "source": [
        "from google.colab import drive\n",
        "drive.mount('/content/gdrive', force_remount=True)"
      ],
      "execution_count": 2,
      "outputs": [
        {
          "output_type": "stream",
          "text": [
            "Mounted at /content/gdrive\n"
          ],
          "name": "stdout"
        }
      ]
    },
    {
      "cell_type": "code",
      "metadata": {
        "id": "LrznB54ymwG3"
      },
      "source": [
        "path=\"/content/gdrive/MyDrive/Samsung-Prism/ner-dataset.csv\""
      ],
      "execution_count": null,
      "outputs": []
    },
    {
      "cell_type": "code",
      "metadata": {
        "id": "b9L5y0uZnBSo"
      },
      "source": [
        "def tsv_to_json_format(input_path,output_path,unknown_label):\n",
        "    try:\n",
        "        f=open(input_path,'r') # input file\n",
        "        fp=open(output_path, 'w') # output file\n",
        "        data_dict={}\n",
        "        annotations =[]\n",
        "        label_dict={}\n",
        "        s=''\n",
        "        start=0\n",
        "        for line in f:\n",
        "            if line[0:len(line)-1]!='.\t0':\n",
        "                word,entity=line.split('\\t')\n",
        "                s+=word+\" \"\n",
        "                entity=entity[:len(entity)-1]\n",
        "                if entity!=unknown_label:\n",
        "                    if len(entity) != 1:\n",
        "                        d={}\n",
        "                        d['text']=word\n",
        "                        d['start']=start\n",
        "                        d['end']=start+len(word)-1  \n",
        "                        try:\n",
        "                            label_dict[entity].append(d)\n",
        "                        except:\n",
        "                            label_dict[entity]=[]\n",
        "                            label_dict[entity].append(d) \n",
        "                start+=len(word)+1\n",
        "            else:\n",
        "                data_dict['content']=s\n",
        "                s=''\n",
        "                label_list=[]\n",
        "                for ents in list(label_dict.keys()):\n",
        "                    for i in range(len(label_dict[ents])):\n",
        "                        if(label_dict[ents][i]['text']!=''):\n",
        "                            l=[ents,label_dict[ents][i]]\n",
        "                            for j in range(i+1,len(label_dict[ents])): \n",
        "                                if(label_dict[ents][i]['text']==label_dict[ents][j]['text']):  \n",
        "                                    di={}\n",
        "                                    di['start']=label_dict[ents][j]['start']\n",
        "                                    di['end']=label_dict[ents][j]['end']\n",
        "                                    di['text']=label_dict[ents][i]['text']\n",
        "                                    l.append(di)\n",
        "                                    label_dict[ents][j]['text']=''\n",
        "                            label_list.append(l)                         \n",
        "                            \n",
        "                for entities in label_list:\n",
        "                    label={}\n",
        "                    label['label']=[entities[0]]\n",
        "                    label['points']=entities[1:]\n",
        "                    annotations.append(label)\n",
        "                data_dict['annotation']=annotations\n",
        "                annotations=[]\n",
        "                json.dump(data_dict, fp)\n",
        "                fp.write('\\n')\n",
        "                data_dict={}\n",
        "                start=0\n",
        "                label_dict={}\n",
        "    except Exception as e:\n",
        "        logging.exception(\"Unable to process file\" + \"\\n\" + \"error = \" + str(e))\n",
        "        return None"
      ],
      "execution_count": null,
      "outputs": []
    },
    {
      "cell_type": "code",
      "metadata": {
        "colab": {
          "base_uri": "https://localhost:8080/"
        },
        "id": "mupGEHeOnOvG",
        "outputId": "d48eaeaf-7c4e-4b7a-e6f1-17d23aa33a55"
      },
      "source": [
        "tsv_to_json_format(\"/content/gdrive/MyDrive/Samsung-Prism/ner-dataset.tsv\",'/content/gdrive/MyDrive/Samsung-Prism/ner_dataset.json','abc')"
      ],
      "execution_count": null,
      "outputs": [
        {
          "output_type": "stream",
          "text": [
            "turn\tB-action\n",
            "on\tB-state\n",
            "AC\tB-device\n",
            "in\t0\n",
            "the\t0\n",
            "bedroom\tB-room\n",
            ".\t0\n",
            "[['B-action', {'text': 'turn', 'start': 0, 'end': 3}]]\n",
            "[['B-action', {'text': 'turn', 'start': 0, 'end': 3}], ['B-state', {'text': 'on', 'start': 5, 'end': 6}]]\n",
            "[['B-action', {'text': 'turn', 'start': 0, 'end': 3}], ['B-state', {'text': 'on', 'start': 5, 'end': 6}], ['B-device', {'text': 'AC', 'start': 8, 'end': 9}]]\n",
            "[['B-action', {'text': 'turn', 'start': 0, 'end': 3}], ['B-state', {'text': 'on', 'start': 5, 'end': 6}], ['B-device', {'text': 'AC', 'start': 8, 'end': 9}], ['B-room', {'text': 'bedroom', 'start': 18, 'end': 24}]]\n",
            "turn\tB-action\n",
            "off\tB-state\n",
            "UPS\tB-device\n",
            "in\t0\n",
            "the\t0\n",
            "livingroom\tB-room\n",
            ".\t0\n",
            "[['B-action', {'text': 'turn', 'start': 0, 'end': 3}]]\n",
            "[['B-action', {'text': 'turn', 'start': 0, 'end': 3}], ['B-state', {'text': 'off', 'start': 5, 'end': 7}]]\n",
            "[['B-action', {'text': 'turn', 'start': 0, 'end': 3}], ['B-state', {'text': 'off', 'start': 5, 'end': 7}], ['B-device', {'text': 'UPS', 'start': 9, 'end': 11}]]\n",
            "[['B-action', {'text': 'turn', 'start': 0, 'end': 3}], ['B-state', {'text': 'off', 'start': 5, 'end': 7}], ['B-device', {'text': 'UPS', 'start': 9, 'end': 11}], ['B-room', {'text': 'livingroom', 'start': 20, 'end': 29}]]\n",
            "turn\tB-action\n",
            "on\tB-state\n",
            "Light\tB-device\n",
            "in\t0\n",
            "the\t0\n",
            "storeroom\tB-room\n",
            ".\t0\n",
            "[['B-action', {'text': 'turn', 'start': 0, 'end': 3}]]\n",
            "[['B-action', {'text': 'turn', 'start': 0, 'end': 3}], ['B-state', {'text': 'on', 'start': 5, 'end': 6}]]\n",
            "[['B-action', {'text': 'turn', 'start': 0, 'end': 3}], ['B-state', {'text': 'on', 'start': 5, 'end': 6}], ['B-device', {'text': 'Light', 'start': 8, 'end': 12}]]\n",
            "[['B-action', {'text': 'turn', 'start': 0, 'end': 3}], ['B-state', {'text': 'on', 'start': 5, 'end': 6}], ['B-device', {'text': 'Light', 'start': 8, 'end': 12}], ['B-room', {'text': 'storeroom', 'start': 21, 'end': 29}]]\n",
            "turn\tB-action\n",
            "on\tB-state\n",
            "Fan\tB-device\n",
            "in\t0\n",
            "the\t0\n",
            "bedroom\tB-room\n",
            ".\t0\n",
            "[['B-action', {'text': 'turn', 'start': 0, 'end': 3}]]\n",
            "[['B-action', {'text': 'turn', 'start': 0, 'end': 3}], ['B-state', {'text': 'on', 'start': 5, 'end': 6}]]\n",
            "[['B-action', {'text': 'turn', 'start': 0, 'end': 3}], ['B-state', {'text': 'on', 'start': 5, 'end': 6}], ['B-device', {'text': 'Fan', 'start': 8, 'end': 10}]]\n",
            "[['B-action', {'text': 'turn', 'start': 0, 'end': 3}], ['B-state', {'text': 'on', 'start': 5, 'end': 6}], ['B-device', {'text': 'Fan', 'start': 8, 'end': 10}], ['B-room', {'text': 'bedroom', 'start': 19, 'end': 25}]]\n",
            "turn\tB-action\n",
            "off\tB-state\n",
            "Refrigerator\tB-device\n",
            "in\t0\n",
            "the\t0\n",
            "kitchen\tB-room\n",
            ".\t0\n",
            "[['B-action', {'text': 'turn', 'start': 0, 'end': 3}]]\n",
            "[['B-action', {'text': 'turn', 'start': 0, 'end': 3}], ['B-state', {'text': 'off', 'start': 5, 'end': 7}]]\n",
            "[['B-action', {'text': 'turn', 'start': 0, 'end': 3}], ['B-state', {'text': 'off', 'start': 5, 'end': 7}], ['B-device', {'text': 'Refrigerator', 'start': 9, 'end': 20}]]\n",
            "[['B-action', {'text': 'turn', 'start': 0, 'end': 3}], ['B-state', {'text': 'off', 'start': 5, 'end': 7}], ['B-device', {'text': 'Refrigerator', 'start': 9, 'end': 20}], ['B-room', {'text': 'kitchen', 'start': 29, 'end': 35}]]\n",
            "turn\tB-action\n",
            "on\tB-state\n",
            "Fan\tB-device\n",
            "in\t0\n",
            "the\t0\n",
            "livingroom\tB-room\n",
            ".\t0\n",
            "[['B-action', {'text': 'turn', 'start': 0, 'end': 3}]]\n",
            "[['B-action', {'text': 'turn', 'start': 0, 'end': 3}], ['B-state', {'text': 'on', 'start': 5, 'end': 6}]]\n",
            "[['B-action', {'text': 'turn', 'start': 0, 'end': 3}], ['B-state', {'text': 'on', 'start': 5, 'end': 6}], ['B-device', {'text': 'Fan', 'start': 8, 'end': 10}]]\n",
            "[['B-action', {'text': 'turn', 'start': 0, 'end': 3}], ['B-state', {'text': 'on', 'start': 5, 'end': 6}], ['B-device', {'text': 'Fan', 'start': 8, 'end': 10}], ['B-room', {'text': 'livingroom', 'start': 19, 'end': 28}]]\n",
            "turn\tB-action\n",
            "off\tB-state\n",
            "Fan\tB-device\n",
            "in\t0\n",
            "the\t0\n",
            "bedroom\tB-room\n",
            ".\t0\n",
            "[['B-action', {'text': 'turn', 'start': 0, 'end': 3}]]\n",
            "[['B-action', {'text': 'turn', 'start': 0, 'end': 3}], ['B-state', {'text': 'off', 'start': 5, 'end': 7}]]\n",
            "[['B-action', {'text': 'turn', 'start': 0, 'end': 3}], ['B-state', {'text': 'off', 'start': 5, 'end': 7}], ['B-device', {'text': 'Fan', 'start': 9, 'end': 11}]]\n",
            "[['B-action', {'text': 'turn', 'start': 0, 'end': 3}], ['B-state', {'text': 'off', 'start': 5, 'end': 7}], ['B-device', {'text': 'Fan', 'start': 9, 'end': 11}], ['B-room', {'text': 'bedroom', 'start': 20, 'end': 26}]]\n",
            "turn\tB-action\n",
            "on\tB-state\n",
            "Light\tB-device\n",
            "in\t0\n",
            "the\t0\n",
            "kitchen\tB-room\n",
            ".\t0\n",
            "[['B-action', {'text': 'turn', 'start': 0, 'end': 3}]]\n",
            "[['B-action', {'text': 'turn', 'start': 0, 'end': 3}], ['B-state', {'text': 'on', 'start': 5, 'end': 6}]]\n",
            "[['B-action', {'text': 'turn', 'start': 0, 'end': 3}], ['B-state', {'text': 'on', 'start': 5, 'end': 6}], ['B-device', {'text': 'Light', 'start': 8, 'end': 12}]]\n",
            "[['B-action', {'text': 'turn', 'start': 0, 'end': 3}], ['B-state', {'text': 'on', 'start': 5, 'end': 6}], ['B-device', {'text': 'Light', 'start': 8, 'end': 12}], ['B-room', {'text': 'kitchen', 'start': 21, 'end': 27}]]\n",
            "turn\tB-action\n",
            "off\tB-state\n",
            "Speaker\tB-device\n",
            "in\t0\n",
            "the\t0\n",
            "bedroom\tB-room\n",
            ".\t0\n",
            "[['B-action', {'text': 'turn', 'start': 0, 'end': 3}]]\n",
            "[['B-action', {'text': 'turn', 'start': 0, 'end': 3}], ['B-state', {'text': 'off', 'start': 5, 'end': 7}]]\n",
            "[['B-action', {'text': 'turn', 'start': 0, 'end': 3}], ['B-state', {'text': 'off', 'start': 5, 'end': 7}], ['B-device', {'text': 'Speaker', 'start': 9, 'end': 15}]]\n",
            "[['B-action', {'text': 'turn', 'start': 0, 'end': 3}], ['B-state', {'text': 'off', 'start': 5, 'end': 7}], ['B-device', {'text': 'Speaker', 'start': 9, 'end': 15}], ['B-room', {'text': 'bedroom', 'start': 24, 'end': 30}]]\n",
            "turn\tB-action\n",
            "on\tB-state\n",
            "Microwave\tB-device\n",
            "in\t0\n",
            "the\t0\n",
            "kitchen\tB-room\n",
            ".\t0\n",
            "[['B-action', {'text': 'turn', 'start': 0, 'end': 3}]]\n",
            "[['B-action', {'text': 'turn', 'start': 0, 'end': 3}], ['B-state', {'text': 'on', 'start': 5, 'end': 6}]]\n",
            "[['B-action', {'text': 'turn', 'start': 0, 'end': 3}], ['B-state', {'text': 'on', 'start': 5, 'end': 6}], ['B-device', {'text': 'Microwave', 'start': 8, 'end': 16}]]\n",
            "[['B-action', {'text': 'turn', 'start': 0, 'end': 3}], ['B-state', {'text': 'on', 'start': 5, 'end': 6}], ['B-device', {'text': 'Microwave', 'start': 8, 'end': 16}], ['B-room', {'text': 'kitchen', 'start': 25, 'end': 31}]]\n",
            "turn\tB-action\n",
            "on\tB-state\n",
            "Computer\tB-device\n",
            "in\t0\n",
            "the\t0\n",
            "studyroom\tB-room\n",
            ".\t0\n",
            "[['B-action', {'text': 'turn', 'start': 0, 'end': 3}]]\n",
            "[['B-action', {'text': 'turn', 'start': 0, 'end': 3}], ['B-state', {'text': 'on', 'start': 5, 'end': 6}]]\n",
            "[['B-action', {'text': 'turn', 'start': 0, 'end': 3}], ['B-state', {'text': 'on', 'start': 5, 'end': 6}], ['B-device', {'text': 'Computer', 'start': 8, 'end': 15}]]\n",
            "[['B-action', {'text': 'turn', 'start': 0, 'end': 3}], ['B-state', {'text': 'on', 'start': 5, 'end': 6}], ['B-device', {'text': 'Computer', 'start': 8, 'end': 15}], ['B-room', {'text': 'studyroom', 'start': 24, 'end': 32}]]\n",
            "turn\tB-action\n",
            "on\tB-state\n",
            "Nightlamp\tB-device\n",
            "in\t0\n",
            "the\t0\n",
            "bedroom\tB-room\n",
            ".\t0\n",
            "[['B-action', {'text': 'turn', 'start': 0, 'end': 3}]]\n",
            "[['B-action', {'text': 'turn', 'start': 0, 'end': 3}], ['B-state', {'text': 'on', 'start': 5, 'end': 6}]]\n",
            "[['B-action', {'text': 'turn', 'start': 0, 'end': 3}], ['B-state', {'text': 'on', 'start': 5, 'end': 6}], ['B-device', {'text': 'Nightlamp', 'start': 8, 'end': 16}]]\n",
            "[['B-action', {'text': 'turn', 'start': 0, 'end': 3}], ['B-state', {'text': 'on', 'start': 5, 'end': 6}], ['B-device', {'text': 'Nightlamp', 'start': 8, 'end': 16}], ['B-room', {'text': 'bedroom', 'start': 25, 'end': 31}]]\n",
            "turn\tB-action\n",
            "on\tB-state\n",
            "Television\tB-device\n",
            "in\t0\n",
            "the\t0\n",
            "livingroom\tB-room\n",
            ".\t0\n",
            "[['B-action', {'text': 'turn', 'start': 0, 'end': 3}]]\n",
            "[['B-action', {'text': 'turn', 'start': 0, 'end': 3}], ['B-state', {'text': 'on', 'start': 5, 'end': 6}]]\n",
            "[['B-action', {'text': 'turn', 'start': 0, 'end': 3}], ['B-state', {'text': 'on', 'start': 5, 'end': 6}], ['B-device', {'text': 'Television', 'start': 8, 'end': 17}]]\n",
            "[['B-action', {'text': 'turn', 'start': 0, 'end': 3}], ['B-state', {'text': 'on', 'start': 5, 'end': 6}], ['B-device', {'text': 'Television', 'start': 8, 'end': 17}], ['B-room', {'text': 'livingroom', 'start': 26, 'end': 35}]]\n",
            "turn\tB-action\n",
            "off\tB-state\n",
            "Television\tB-device\n",
            "in\t0\n",
            "the\t0\n",
            "livingroom\tB-room\n",
            ".\t0\n",
            "[['B-action', {'text': 'turn', 'start': 0, 'end': 3}]]\n",
            "[['B-action', {'text': 'turn', 'start': 0, 'end': 3}], ['B-state', {'text': 'off', 'start': 5, 'end': 7}]]\n",
            "[['B-action', {'text': 'turn', 'start': 0, 'end': 3}], ['B-state', {'text': 'off', 'start': 5, 'end': 7}], ['B-device', {'text': 'Television', 'start': 9, 'end': 18}]]\n",
            "[['B-action', {'text': 'turn', 'start': 0, 'end': 3}], ['B-state', {'text': 'off', 'start': 5, 'end': 7}], ['B-device', {'text': 'Television', 'start': 9, 'end': 18}], ['B-room', {'text': 'livingroom', 'start': 27, 'end': 36}]]\n",
            "turn\tB-action\n",
            "off\tB-state\n",
            "Smartlight\tB-device\n",
            "in\t0\n",
            "the\t0\n",
            "restroom\tB-room\n",
            ".\t0\n",
            "[['B-action', {'text': 'turn', 'start': 0, 'end': 3}]]\n",
            "[['B-action', {'text': 'turn', 'start': 0, 'end': 3}], ['B-state', {'text': 'off', 'start': 5, 'end': 7}]]\n",
            "[['B-action', {'text': 'turn', 'start': 0, 'end': 3}], ['B-state', {'text': 'off', 'start': 5, 'end': 7}], ['B-device', {'text': 'Smartlight', 'start': 9, 'end': 18}]]\n",
            "[['B-action', {'text': 'turn', 'start': 0, 'end': 3}], ['B-state', {'text': 'off', 'start': 5, 'end': 7}], ['B-device', {'text': 'Smartlight', 'start': 9, 'end': 18}], ['B-room', {'text': 'restroom', 'start': 27, 'end': 34}]]\n",
            "turn\tB-action\n",
            "on\tB-state\n",
            "Lamp\tB-device\n",
            "in\t0\n",
            "the\t0\n",
            "studyroom\tB-room\n",
            ".\t0\n",
            "[['B-action', {'text': 'turn', 'start': 0, 'end': 3}]]\n",
            "[['B-action', {'text': 'turn', 'start': 0, 'end': 3}], ['B-state', {'text': 'on', 'start': 5, 'end': 6}]]\n",
            "[['B-action', {'text': 'turn', 'start': 0, 'end': 3}], ['B-state', {'text': 'on', 'start': 5, 'end': 6}], ['B-device', {'text': 'Lamp', 'start': 8, 'end': 11}]]\n",
            "[['B-action', {'text': 'turn', 'start': 0, 'end': 3}], ['B-state', {'text': 'on', 'start': 5, 'end': 6}], ['B-device', {'text': 'Lamp', 'start': 8, 'end': 11}], ['B-room', {'text': 'studyroom', 'start': 20, 'end': 28}]]\n",
            "turn\tB-action\n",
            "off\tB-state\n",
            "Grinder\tB-device\n",
            "in\t0\n",
            "the\t0\n",
            "kitchen\tB-room\n",
            ".\t0\n",
            "[['B-action', {'text': 'turn', 'start': 0, 'end': 3}]]\n",
            "[['B-action', {'text': 'turn', 'start': 0, 'end': 3}], ['B-state', {'text': 'off', 'start': 5, 'end': 7}]]\n",
            "[['B-action', {'text': 'turn', 'start': 0, 'end': 3}], ['B-state', {'text': 'off', 'start': 5, 'end': 7}], ['B-device', {'text': 'Grinder', 'start': 9, 'end': 15}]]\n",
            "[['B-action', {'text': 'turn', 'start': 0, 'end': 3}], ['B-state', {'text': 'off', 'start': 5, 'end': 7}], ['B-device', {'text': 'Grinder', 'start': 9, 'end': 15}], ['B-room', {'text': 'kitchen', 'start': 24, 'end': 30}]]\n",
            "turn\tB-action\n",
            "on\tB-state\n",
            "Mixer\tB-device\n",
            "in\t0\n",
            "the\t0\n",
            "kitchen\tB-room\n",
            ".\t0\n",
            "[['B-action', {'text': 'turn', 'start': 0, 'end': 3}]]\n",
            "[['B-action', {'text': 'turn', 'start': 0, 'end': 3}], ['B-state', {'text': 'on', 'start': 5, 'end': 6}]]\n",
            "[['B-action', {'text': 'turn', 'start': 0, 'end': 3}], ['B-state', {'text': 'on', 'start': 5, 'end': 6}], ['B-device', {'text': 'Mixer', 'start': 8, 'end': 12}]]\n",
            "[['B-action', {'text': 'turn', 'start': 0, 'end': 3}], ['B-state', {'text': 'on', 'start': 5, 'end': 6}], ['B-device', {'text': 'Mixer', 'start': 8, 'end': 12}], ['B-room', {'text': 'kitchen', 'start': 21, 'end': 27}]]\n",
            "turn\tB-action\n",
            "off\tB-state\n",
            "AC\tB-device\n",
            "in\t0\n",
            "the\t0\n",
            "livingroom\tB-room\n",
            ".\t0\n",
            "[['B-action', {'text': 'turn', 'start': 0, 'end': 3}]]\n",
            "[['B-action', {'text': 'turn', 'start': 0, 'end': 3}], ['B-state', {'text': 'off', 'start': 5, 'end': 7}]]\n",
            "[['B-action', {'text': 'turn', 'start': 0, 'end': 3}], ['B-state', {'text': 'off', 'start': 5, 'end': 7}], ['B-device', {'text': 'AC', 'start': 9, 'end': 10}]]\n",
            "[['B-action', {'text': 'turn', 'start': 0, 'end': 3}], ['B-state', {'text': 'off', 'start': 5, 'end': 7}], ['B-device', {'text': 'AC', 'start': 9, 'end': 10}], ['B-room', {'text': 'livingroom', 'start': 19, 'end': 28}]]\n",
            "turn\tB-action\n",
            "on\tB-state\n",
            "Juicer\tB-device\n",
            "in\t0\n",
            "the\t0\n",
            "kitchen\tB-room\n",
            ".\t0\n",
            "[['B-action', {'text': 'turn', 'start': 0, 'end': 3}]]\n",
            "[['B-action', {'text': 'turn', 'start': 0, 'end': 3}], ['B-state', {'text': 'on', 'start': 5, 'end': 6}]]\n",
            "[['B-action', {'text': 'turn', 'start': 0, 'end': 3}], ['B-state', {'text': 'on', 'start': 5, 'end': 6}], ['B-device', {'text': 'Juicer', 'start': 8, 'end': 13}]]\n",
            "[['B-action', {'text': 'turn', 'start': 0, 'end': 3}], ['B-state', {'text': 'on', 'start': 5, 'end': 6}], ['B-device', {'text': 'Juicer', 'start': 8, 'end': 13}], ['B-room', {'text': 'kitchen', 'start': 22, 'end': 28}]]\n",
            "turn\tB-action\n",
            "off\tB-state\n",
            "Jiucer\tB-device\n",
            "in\t0\n",
            "the\t0\n",
            "kitchen\tB-room\n",
            ".\t0\n",
            "[['B-action', {'text': 'turn', 'start': 0, 'end': 3}]]\n",
            "[['B-action', {'text': 'turn', 'start': 0, 'end': 3}], ['B-state', {'text': 'off', 'start': 5, 'end': 7}]]\n",
            "[['B-action', {'text': 'turn', 'start': 0, 'end': 3}], ['B-state', {'text': 'off', 'start': 5, 'end': 7}], ['B-device', {'text': 'Jiucer', 'start': 9, 'end': 14}]]\n",
            "[['B-action', {'text': 'turn', 'start': 0, 'end': 3}], ['B-state', {'text': 'off', 'start': 5, 'end': 7}], ['B-device', {'text': 'Jiucer', 'start': 9, 'end': 14}], ['B-room', {'text': 'kitchen', 'start': 23, 'end': 29}]]\n",
            "turn\tB-action\n",
            "on\tB-state\n",
            "Waterpurifier\tB-device\n",
            "in\t0\n",
            "the\t0\n",
            "kitchen\tB-room\n",
            ".\t0\n",
            "[['B-action', {'text': 'turn', 'start': 0, 'end': 3}]]\n",
            "[['B-action', {'text': 'turn', 'start': 0, 'end': 3}], ['B-state', {'text': 'on', 'start': 5, 'end': 6}]]\n",
            "[['B-action', {'text': 'turn', 'start': 0, 'end': 3}], ['B-state', {'text': 'on', 'start': 5, 'end': 6}], ['B-device', {'text': 'Waterpurifier', 'start': 8, 'end': 20}]]\n",
            "[['B-action', {'text': 'turn', 'start': 0, 'end': 3}], ['B-state', {'text': 'on', 'start': 5, 'end': 6}], ['B-device', {'text': 'Waterpurifier', 'start': 8, 'end': 20}], ['B-room', {'text': 'kitchen', 'start': 29, 'end': 35}]]\n",
            "turn\tB-action\n",
            "off\tB-state\n",
            "AC\tB-device\n",
            "in\t0\n",
            "the\t0\n",
            "bedroom\tB-room\n",
            ".\t0\n",
            "[['B-action', {'text': 'turn', 'start': 0, 'end': 3}]]\n",
            "[['B-action', {'text': 'turn', 'start': 0, 'end': 3}], ['B-state', {'text': 'off', 'start': 5, 'end': 7}]]\n",
            "[['B-action', {'text': 'turn', 'start': 0, 'end': 3}], ['B-state', {'text': 'off', 'start': 5, 'end': 7}], ['B-device', {'text': 'AC', 'start': 9, 'end': 10}]]\n",
            "[['B-action', {'text': 'turn', 'start': 0, 'end': 3}], ['B-state', {'text': 'off', 'start': 5, 'end': 7}], ['B-device', {'text': 'AC', 'start': 9, 'end': 10}], ['B-room', {'text': 'bedroom', 'start': 19, 'end': 25}]]\n",
            "turn\tB-action\n",
            "on\tB-state\n",
            "UPS\tB-device\n",
            "in\t0\n",
            "the\t0\n",
            "livingroom\tB-room\n",
            ".\t0\n",
            "[['B-action', {'text': 'turn', 'start': 0, 'end': 3}]]\n",
            "[['B-action', {'text': 'turn', 'start': 0, 'end': 3}], ['B-state', {'text': 'on', 'start': 5, 'end': 6}]]\n",
            "[['B-action', {'text': 'turn', 'start': 0, 'end': 3}], ['B-state', {'text': 'on', 'start': 5, 'end': 6}], ['B-device', {'text': 'UPS', 'start': 8, 'end': 10}]]\n",
            "[['B-action', {'text': 'turn', 'start': 0, 'end': 3}], ['B-state', {'text': 'on', 'start': 5, 'end': 6}], ['B-device', {'text': 'UPS', 'start': 8, 'end': 10}], ['B-room', {'text': 'livingroom', 'start': 19, 'end': 28}]]\n",
            "turn\tB-action\n",
            "off\tB-state\n",
            "Fan\tB-device\n",
            "in\t0\n",
            "the\t0\n",
            "bedroom\tB-room\n",
            ".\t0\n",
            "[['B-action', {'text': 'turn', 'start': 0, 'end': 3}]]\n",
            "[['B-action', {'text': 'turn', 'start': 0, 'end': 3}], ['B-state', {'text': 'off', 'start': 5, 'end': 7}]]\n",
            "[['B-action', {'text': 'turn', 'start': 0, 'end': 3}], ['B-state', {'text': 'off', 'start': 5, 'end': 7}], ['B-device', {'text': 'Fan', 'start': 9, 'end': 11}]]\n",
            "[['B-action', {'text': 'turn', 'start': 0, 'end': 3}], ['B-state', {'text': 'off', 'start': 5, 'end': 7}], ['B-device', {'text': 'Fan', 'start': 9, 'end': 11}], ['B-room', {'text': 'bedroom', 'start': 20, 'end': 26}]]\n",
            "turn\tB-action\n",
            "on\tB-state\n",
            "Refrigerator\tB-device\n",
            "in\t0\n",
            "the\t0\n",
            "kitchen\tB-room\n",
            ".\t0\n",
            "[['B-action', {'text': 'turn', 'start': 0, 'end': 3}]]\n",
            "[['B-action', {'text': 'turn', 'start': 0, 'end': 3}], ['B-state', {'text': 'on', 'start': 5, 'end': 6}]]\n",
            "[['B-action', {'text': 'turn', 'start': 0, 'end': 3}], ['B-state', {'text': 'on', 'start': 5, 'end': 6}], ['B-device', {'text': 'Refrigerator', 'start': 8, 'end': 19}]]\n",
            "[['B-action', {'text': 'turn', 'start': 0, 'end': 3}], ['B-state', {'text': 'on', 'start': 5, 'end': 6}], ['B-device', {'text': 'Refrigerator', 'start': 8, 'end': 19}], ['B-room', {'text': 'kitchen', 'start': 28, 'end': 34}]]\n",
            "turn\tB-action\n",
            "on\tB-state\n",
            "Refrigerator\tB-device\n",
            "in\t0\n",
            "the\t\n",
            "kitchen\tB-room\n",
            ".\t0\n",
            "[['B-action', {'text': 'turn', 'start': 0, 'end': 3}]]\n",
            "[['B-action', {'text': 'turn', 'start': 0, 'end': 3}], ['B-state', {'text': 'on', 'start': 5, 'end': 6}]]\n",
            "[['B-action', {'text': 'turn', 'start': 0, 'end': 3}], ['B-state', {'text': 'on', 'start': 5, 'end': 6}], ['B-device', {'text': 'Refrigerator', 'start': 8, 'end': 19}]]\n",
            "[['B-action', {'text': 'turn', 'start': 0, 'end': 3}], ['B-state', {'text': 'on', 'start': 5, 'end': 6}], ['B-device', {'text': 'Refrigerator', 'start': 8, 'end': 19}], ['', {'text': 'the', 'start': 24, 'end': 26}]]\n",
            "[['B-action', {'text': 'turn', 'start': 0, 'end': 3}], ['B-state', {'text': 'on', 'start': 5, 'end': 6}], ['B-device', {'text': 'Refrigerator', 'start': 8, 'end': 19}], ['', {'text': 'the', 'start': 24, 'end': 26}], ['B-room', {'text': 'kitchen', 'start': 28, 'end': 34}]]\n",
            "turn\tB-action\n",
            "off\tB-state\n",
            "Fan\tB-device\n",
            "in\t0\n",
            "the\t0\n",
            "livingroom\tB-room\n",
            ".\t0\n",
            "[['B-action', {'text': 'turn', 'start': 0, 'end': 3}]]\n",
            "[['B-action', {'text': 'turn', 'start': 0, 'end': 3}], ['B-state', {'text': 'off', 'start': 5, 'end': 7}]]\n",
            "[['B-action', {'text': 'turn', 'start': 0, 'end': 3}], ['B-state', {'text': 'off', 'start': 5, 'end': 7}], ['B-device', {'text': 'Fan', 'start': 9, 'end': 11}]]\n",
            "[['B-action', {'text': 'turn', 'start': 0, 'end': 3}], ['B-state', {'text': 'off', 'start': 5, 'end': 7}], ['B-device', {'text': 'Fan', 'start': 9, 'end': 11}], ['B-room', {'text': 'livingroom', 'start': 20, 'end': 29}]]\n",
            "turn\tB-action\n",
            "on\tB-state\n",
            "Fan\tB-device\n",
            "in\t0\n",
            "the\t0\n",
            "bedroom\tB-room\n",
            ".\t0\n",
            "[['B-action', {'text': 'turn', 'start': 0, 'end': 3}]]\n",
            "[['B-action', {'text': 'turn', 'start': 0, 'end': 3}], ['B-state', {'text': 'on', 'start': 5, 'end': 6}]]\n",
            "[['B-action', {'text': 'turn', 'start': 0, 'end': 3}], ['B-state', {'text': 'on', 'start': 5, 'end': 6}], ['B-device', {'text': 'Fan', 'start': 8, 'end': 10}]]\n",
            "[['B-action', {'text': 'turn', 'start': 0, 'end': 3}], ['B-state', {'text': 'on', 'start': 5, 'end': 6}], ['B-device', {'text': 'Fan', 'start': 8, 'end': 10}], ['B-room', {'text': 'bedroom', 'start': 19, 'end': 25}]]\n",
            "turn\tB-action\n",
            "on\tB-state\n",
            "Grinder\tB-device\n",
            "in\t0\n",
            "the\t0\n",
            "kitchen\tB-room\n",
            "decrease\tB-action\n",
            "room temprature\tB-attribute\n",
            "it\t0\n",
            "feels\t0\n",
            "like\t0\n",
            "summer\t0\n",
            ".\t0\n",
            "[['B-action', {'text': 'turn', 'start': 0, 'end': 3}]]\n",
            "[['B-action', {'text': 'turn', 'start': 0, 'end': 3}], ['B-action', {'text': 'decrease', 'start': 31, 'end': 38}]]\n",
            "[['B-action', {'text': 'turn', 'start': 0, 'end': 3}], ['B-action', {'text': 'decrease', 'start': 31, 'end': 38}], ['B-state', {'text': 'on', 'start': 5, 'end': 6}]]\n",
            "[['B-action', {'text': 'turn', 'start': 0, 'end': 3}], ['B-action', {'text': 'decrease', 'start': 31, 'end': 38}], ['B-state', {'text': 'on', 'start': 5, 'end': 6}], ['B-device', {'text': 'Grinder', 'start': 8, 'end': 14}]]\n",
            "[['B-action', {'text': 'turn', 'start': 0, 'end': 3}], ['B-action', {'text': 'decrease', 'start': 31, 'end': 38}], ['B-state', {'text': 'on', 'start': 5, 'end': 6}], ['B-device', {'text': 'Grinder', 'start': 8, 'end': 14}], ['B-room', {'text': 'kitchen', 'start': 23, 'end': 29}]]\n",
            "[['B-action', {'text': 'turn', 'start': 0, 'end': 3}], ['B-action', {'text': 'decrease', 'start': 31, 'end': 38}], ['B-state', {'text': 'on', 'start': 5, 'end': 6}], ['B-device', {'text': 'Grinder', 'start': 8, 'end': 14}], ['B-room', {'text': 'kitchen', 'start': 23, 'end': 29}], ['B-attribute', {'text': 'room temprature', 'start': 40, 'end': 54}]]\n",
            "hey\t0\n",
            "can\t0\n",
            "you\t0\n",
            "start\tB-action\n",
            "the\t0\n",
            "televison\tB-device\n",
            ".\t0\n",
            "[['B-action', {'text': 'start', 'start': 12, 'end': 16}]]\n",
            "[['B-action', {'text': 'start', 'start': 12, 'end': 16}], ['B-device', {'text': 'televison', 'start': 22, 'end': 30}]]\n",
            "I\t0\n",
            "am\t0\n",
            "going\tB-action\n",
            "to\t0\n",
            "visit\tB-action\n",
            "Durgapur\tB-geo\n",
            "in\t0\n",
            "India\tB-geo\n",
            ".\t0\n",
            "[['B-action', {'text': 'going', 'start': 5, 'end': 9}]]\n",
            "[['B-action', {'text': 'going', 'start': 5, 'end': 9}], ['B-action', {'text': 'visit', 'start': 14, 'end': 18}]]\n",
            "[['B-action', {'text': 'going', 'start': 5, 'end': 9}], ['B-action', {'text': 'visit', 'start': 14, 'end': 18}], ['B-geo', {'text': 'Durgapur', 'start': 20, 'end': 27}]]\n",
            "[['B-action', {'text': 'going', 'start': 5, 'end': 9}], ['B-action', {'text': 'visit', 'start': 14, 'end': 18}], ['B-geo', {'text': 'Durgapur', 'start': 20, 'end': 27}], ['B-geo', {'text': 'India', 'start': 32, 'end': 36}]]\n",
            "reduce\tB-action\n",
            "the\t0\n",
            "noise\tB-attribute\n",
            "its\t0\n",
            "hurting\tB-action\n",
            "my\t0\n",
            "ears\t0\n",
            ".\t0\n",
            "[['B-action', {'text': 'reduce', 'start': 0, 'end': 5}]]\n",
            "[['B-action', {'text': 'reduce', 'start': 0, 'end': 5}], ['B-action', {'text': 'hurting', 'start': 21, 'end': 27}]]\n",
            "[['B-action', {'text': 'reduce', 'start': 0, 'end': 5}], ['B-action', {'text': 'hurting', 'start': 21, 'end': 27}], ['B-attribute', {'text': 'noise', 'start': 11, 'end': 15}]]\n",
            "heat\tB-action\n",
            "the\t0\n",
            "oven\tB-device\n",
            "to\t0\n",
            "20 degrees\tB-state\n",
            ".\t0\n",
            "[['B-action', {'text': 'heat', 'start': 0, 'end': 3}]]\n",
            "[['B-action', {'text': 'heat', 'start': 0, 'end': 3}], ['B-device', {'text': 'oven', 'start': 9, 'end': 12}]]\n",
            "[['B-action', {'text': 'heat', 'start': 0, 'end': 3}], ['B-device', {'text': 'oven', 'start': 9, 'end': 12}], ['B-state', {'text': '20 degrees', 'start': 17, 'end': 26}]]\n",
            "heat\tB-action\n",
            "the\t0\n",
            "food\tB-subject\n",
            "more\tB-state\n",
            ".\t\n"
          ],
          "name": "stdout"
        }
      ]
    },
    {
      "cell_type": "code",
      "metadata": {
        "id": "Qyh3ApcupF8d"
      },
      "source": [
        "import plac\n",
        "import logging\n",
        "import argparse\n",
        "import sys\n",
        "import os\n",
        "import json\n",
        "import pickle"
      ],
      "execution_count": null,
      "outputs": []
    },
    {
      "cell_type": "code",
      "metadata": {
        "id": "RElzXllP2OOD"
      },
      "source": [
        "from __future__ import unicode_literals, print_function\n",
        "import plac\n",
        "import random\n",
        "from pathlib import Path\n",
        "import spacy\n",
        "from tqdm import tqdm"
      ],
      "execution_count": 1,
      "outputs": []
    },
    {
      "cell_type": "code",
      "metadata": {
        "id": "K7FhFQg_2TX2"
      },
      "source": [
        "TRAIN_DATA=[('turn on AC in the bedroom', {'entities': [(0, 4, 'B-action'), (5, 7, 'B-state'), (8, 10, 'B-device'), (18, 25, 'B-room')]}), ('turn off UPS in the livingroom', {'entities': [(0, 4, 'B-action'), (5, 8, 'B-state'), (9, 12, 'B-device'), (20, 30, 'B-room')]}), ('turn on Light in the storeroom', {'entities': [(0, 4, 'B-action'), (5, 7, 'B-state'), (8, 13, 'B-device'), (21, 30, 'B-room')]}), ('turn on Fan in the bedroom', {'entities': [(0, 4, 'B-action'), (5, 7, 'B-state'), (8, 11, 'B-device'), (19, 26, 'B-room')]}), ('turn off Refrigerator in the kitchen', {'entities': [(0, 4, 'B-action'), (5, 8, 'B-state'), (9, 21, 'B-device'), (29, 36, 'B-room')]}), ('turn on Fan in the livingroom', {'entities': [(0, 4, 'B-action'), (5, 7, 'B-state'), (8, 11, 'B-device'), (19, 29, 'B-room')]}), ('turn off Fan in the bedroom', {'entities': [(0, 4, 'B-action'), (5, 8, 'B-state'), (9, 12, 'B-device'), (20, 27, 'B-room')]}), ('turn on Light in the kitchen', {'entities': [(0, 4, 'B-action'), (5, 7, 'B-state'), (8, 13, 'B-device'), (21, 28, 'B-room')]}), ('turn off Speaker in the bedroom', {'entities': [(0, 4, 'B-action'), (5, 8, 'B-state'), (9, 16, 'B-device'), (24, 31, 'B-room')]}), ('turn on Microwave in the kitchen', {'entities': [(0, 4, 'B-action'), (5, 7, 'B-state'), (8, 17, 'B-device'), (25, 32, 'B-room')]}), ('turn on Computer in the studyroom', {'entities': [(0, 4, 'B-action'), (5, 7, 'B-state'), (8, 16, 'B-device'), (24, 33, 'B-room')]}), ('turn on Nightlamp in the bedroom', {'entities': [(0, 4, 'B-action'), (5, 7, 'B-state'), (8, 17, 'B-device'), (25, 32, 'B-room')]}), ('turn on Television in the livingroom', {'entities': [(0, 4, 'B-action'), (5, 7, 'B-state'), (8, 18, 'B-device'), (26, 36, 'B-room')]}), ('switch off the TV in guestroom', {'entities': [(0, 6, 'B-action'), (7, 10, 'B-state'), (15, 17, 'B-device'), (21, 30, 'B-room')]}), ('turn on Refrigerator in the kitchen', {'entities': [(0, 4, 'B-action'), (5, 7, 'B-state'), (8, 20, 'B-device'), (28, 35, 'B-room')]}), ('turn off Fan in the livingroom', {'entities': [(0, 4, 'B-action'), (5, 8, 'B-state'), (9, 12, 'B-device'), (20, 30, 'B-room')]}), ('turn on Fan in the bedroom', {'entities': [(0, 4, 'B-action'), (5, 7, 'B-state'), (8, 11, 'B-device'), (19, 26, 'B-room')]}), ('turn on Grinder in the kitchen decrease room temprature it feels like summer', {'entities': [(0, 4, 'B-action'), (31, 39, 'B-action'), (5, 7, 'B-state'), (8, 15, 'B-device'), (23, 30, 'B-room'), (40, 55, 'B-attribute')]}), ('hey can you start the televison', {'entities': [(12, 17, 'B-action'), (22, 31, 'B-device')]}), ('I am going to visit Durgapur in India', {'entities': [(5, 10, 'B-action'), (14, 19, 'B-action'), (20, 28, 'B-geo'), (32, 37, 'B-geo')]}), ('reduce the noise its hurting my ears', {'entities': [(0, 6, 'B-action'), (21, 28, 'B-action'), (11, 16, 'B-attribute')]}), ('heat the oven to 20 degrees', {'entities': [(0, 4, 'B-action'), (9, 13, 'B-device'), (17, 27, 'B-state')]})]"
      ],
      "execution_count": 3,
      "outputs": []
    },
    {
      "cell_type": "code",
      "metadata": {
        "id": "DnLZv8Lv3f3u"
      },
      "source": [
        "model = None\n",
        "output_dir=Path(\"/content/gdrive/MyDrive/Samsung-Prism/\")\n",
        "n_iter=75"
      ],
      "execution_count": 4,
      "outputs": []
    },
    {
      "cell_type": "code",
      "metadata": {
        "colab": {
          "base_uri": "https://localhost:8080/"
        },
        "id": "cxfz5U7N3h3b",
        "outputId": "0ec39d42-2db4-4845-fd12-6b6a59f6c986"
      },
      "source": [
        "#load the model\n",
        "\n",
        "if model is not None:\n",
        "    nlp = spacy.load(model)  \n",
        "    print(\"Loaded model '%s'\" % model)\n",
        "else:\n",
        "    nlp = spacy.blank('en')  \n",
        "    print(\"Created blank 'en' model\")\n",
        "\n",
        "#set up the pipeline\n",
        "\n",
        "if 'ner' not in nlp.pipe_names:\n",
        "    ner = nlp.create_pipe('ner')\n",
        "    nlp.add_pipe(ner, last=True)\n",
        "else:\n",
        "    ner = nlp.get_pipe('ner')"
      ],
      "execution_count": 5,
      "outputs": [
        {
          "output_type": "stream",
          "text": [
            "Created blank 'en' model\n"
          ],
          "name": "stdout"
        }
      ]
    },
    {
      "cell_type": "code",
      "metadata": {
        "id": "d31Xr87J3z6V"
      },
      "source": [
        "import re\n",
        "def trim_entity_spans(data: list) -> list:\n",
        "    \"\"\"Removes leading and trailing white spaces from entity spans.\n",
        "\n",
        "    Args:\n",
        "        data (list): The data to be cleaned in spaCy JSON format.\n",
        "\n",
        "    Returns:\n",
        "        list: The cleaned data.\n",
        "    \"\"\"\n",
        "    invalid_span_tokens = re.compile(r'\\s')\n",
        "\n",
        "    cleaned_data = []\n",
        "    for text, annotations in data:\n",
        "        entities = annotations['entities']\n",
        "        valid_entities = []\n",
        "        for start, end, label in entities:\n",
        "            valid_start = start\n",
        "            valid_end = end\n",
        "            while valid_start < len(text) and invalid_span_tokens.match(\n",
        "                    text[valid_start]):\n",
        "                valid_start += 1\n",
        "            while valid_end > 1 and invalid_span_tokens.match(\n",
        "                    text[valid_end - 1]):\n",
        "                valid_end -= 1\n",
        "            valid_entities.append([valid_start, valid_end, label])\n",
        "        cleaned_data.append([text, {'entities': valid_entities}])\n",
        "\n",
        "    return cleaned_data\n",
        "\n",
        "newdata=trim_entity_spans(TRAIN_DATA)"
      ],
      "execution_count": 6,
      "outputs": []
    },
    {
      "cell_type": "code",
      "metadata": {
        "colab": {
          "base_uri": "https://localhost:8080/"
        },
        "id": "KcYcKluV3mwE",
        "outputId": "0dd3c665-641d-46a3-92ec-2545f7e6e28a"
      },
      "source": [
        "for _, annotations in newdata:\n",
        "    for ent in annotations.get('entities'):\n",
        "        ner.add_label(ent[2])\n",
        "loss_log=[]\n",
        "other_pipes = [pipe for pipe in nlp.pipe_names if pipe != 'ner']\n",
        "with nlp.disable_pipes(*other_pipes):  # only train NER\n",
        "    optimizer = nlp.begin_training()\n",
        "    for itn in range(n_iter):\n",
        "        random.shuffle(newdata)\n",
        "        losses = {}\n",
        "        for text, annotations in tqdm(newdata):\n",
        "            nlp.update(\n",
        "                [text],  \n",
        "                [annotations],  \n",
        "                drop=0.5,  \n",
        "                sgd=optimizer,\n",
        "                losses=losses)\n",
        "        loss_log.append(losses['ner'])\n",
        "        print(losses)"
      ],
      "execution_count": 7,
      "outputs": [
        {
          "output_type": "stream",
          "text": [
            "100%|██████████| 22/22 [00:00<00:00, 27.97it/s]\n",
            " 14%|█▎        | 3/22 [00:00<00:00, 29.55it/s]"
          ],
          "name": "stderr"
        },
        {
          "output_type": "stream",
          "text": [
            "{'ner': 122.5236064195633}\n"
          ],
          "name": "stdout"
        },
        {
          "output_type": "stream",
          "text": [
            "100%|██████████| 22/22 [00:00<00:00, 31.52it/s]\n",
            " 18%|█▊        | 4/22 [00:00<00:00, 34.10it/s]"
          ],
          "name": "stderr"
        },
        {
          "output_type": "stream",
          "text": [
            "{'ner': 96.86821580957621}\n"
          ],
          "name": "stdout"
        },
        {
          "output_type": "stream",
          "text": [
            "100%|██████████| 22/22 [00:00<00:00, 31.04it/s]\n",
            " 18%|█▊        | 4/22 [00:00<00:00, 31.41it/s]"
          ],
          "name": "stderr"
        },
        {
          "output_type": "stream",
          "text": [
            "{'ner': 66.51154347823467}\n"
          ],
          "name": "stdout"
        },
        {
          "output_type": "stream",
          "text": [
            "100%|██████████| 22/22 [00:00<00:00, 30.63it/s]\n",
            " 18%|█▊        | 4/22 [00:00<00:00, 32.25it/s]"
          ],
          "name": "stderr"
        },
        {
          "output_type": "stream",
          "text": [
            "{'ner': 34.12728033195228}\n"
          ],
          "name": "stdout"
        },
        {
          "output_type": "stream",
          "text": [
            "100%|██████████| 22/22 [00:00<00:00, 31.88it/s]\n",
            " 18%|█▊        | 4/22 [00:00<00:00, 31.09it/s]"
          ],
          "name": "stderr"
        },
        {
          "output_type": "stream",
          "text": [
            "{'ner': 25.68469941284776}\n"
          ],
          "name": "stdout"
        },
        {
          "output_type": "stream",
          "text": [
            "100%|██████████| 22/22 [00:00<00:00, 31.84it/s]\n",
            " 18%|█▊        | 4/22 [00:00<00:00, 33.55it/s]"
          ],
          "name": "stderr"
        },
        {
          "output_type": "stream",
          "text": [
            "{'ner': 24.13754343698436}\n"
          ],
          "name": "stdout"
        },
        {
          "output_type": "stream",
          "text": [
            "100%|██████████| 22/22 [00:00<00:00, 30.90it/s]\n",
            " 18%|█▊        | 4/22 [00:00<00:00, 33.13it/s]"
          ],
          "name": "stderr"
        },
        {
          "output_type": "stream",
          "text": [
            "{'ner': 15.51009142222919}\n"
          ],
          "name": "stdout"
        },
        {
          "output_type": "stream",
          "text": [
            "100%|██████████| 22/22 [00:00<00:00, 31.88it/s]\n",
            " 18%|█▊        | 4/22 [00:00<00:00, 33.05it/s]"
          ],
          "name": "stderr"
        },
        {
          "output_type": "stream",
          "text": [
            "{'ner': 15.759350620744595}\n"
          ],
          "name": "stdout"
        },
        {
          "output_type": "stream",
          "text": [
            "100%|██████████| 22/22 [00:00<00:00, 32.03it/s]\n",
            " 18%|█▊        | 4/22 [00:00<00:00, 32.82it/s]"
          ],
          "name": "stderr"
        },
        {
          "output_type": "stream",
          "text": [
            "{'ner': 20.14233657929685}\n"
          ],
          "name": "stdout"
        },
        {
          "output_type": "stream",
          "text": [
            "100%|██████████| 22/22 [00:00<00:00, 31.89it/s]\n",
            " 14%|█▎        | 3/22 [00:00<00:00, 29.90it/s]"
          ],
          "name": "stderr"
        },
        {
          "output_type": "stream",
          "text": [
            "{'ner': 17.096114605498432}\n"
          ],
          "name": "stdout"
        },
        {
          "output_type": "stream",
          "text": [
            "100%|██████████| 22/22 [00:00<00:00, 31.31it/s]\n",
            " 18%|█▊        | 4/22 [00:00<00:00, 32.79it/s]"
          ],
          "name": "stderr"
        },
        {
          "output_type": "stream",
          "text": [
            "{'ner': 15.7278420380019}\n"
          ],
          "name": "stdout"
        },
        {
          "output_type": "stream",
          "text": [
            "100%|██████████| 22/22 [00:00<00:00, 31.88it/s]\n",
            " 18%|█▊        | 4/22 [00:00<00:00, 31.74it/s]"
          ],
          "name": "stderr"
        },
        {
          "output_type": "stream",
          "text": [
            "{'ner': 8.800443198132182}\n"
          ],
          "name": "stdout"
        },
        {
          "output_type": "stream",
          "text": [
            "100%|██████████| 22/22 [00:00<00:00, 31.75it/s]\n",
            " 18%|█▊        | 4/22 [00:00<00:00, 32.10it/s]"
          ],
          "name": "stderr"
        },
        {
          "output_type": "stream",
          "text": [
            "{'ner': 8.373704973753586}\n"
          ],
          "name": "stdout"
        },
        {
          "output_type": "stream",
          "text": [
            "100%|██████████| 22/22 [00:00<00:00, 32.26it/s]\n",
            " 18%|█▊        | 4/22 [00:00<00:00, 33.63it/s]"
          ],
          "name": "stderr"
        },
        {
          "output_type": "stream",
          "text": [
            "{'ner': 13.254365585980727}\n"
          ],
          "name": "stdout"
        },
        {
          "output_type": "stream",
          "text": [
            "100%|██████████| 22/22 [00:00<00:00, 32.24it/s]\n",
            " 18%|█▊        | 4/22 [00:00<00:00, 31.88it/s]"
          ],
          "name": "stderr"
        },
        {
          "output_type": "stream",
          "text": [
            "{'ner': 11.65741669051689}\n"
          ],
          "name": "stdout"
        },
        {
          "output_type": "stream",
          "text": [
            "100%|██████████| 22/22 [00:00<00:00, 30.97it/s]\n",
            " 18%|█▊        | 4/22 [00:00<00:00, 33.69it/s]"
          ],
          "name": "stderr"
        },
        {
          "output_type": "stream",
          "text": [
            "{'ner': 8.76620622918398}\n"
          ],
          "name": "stdout"
        },
        {
          "output_type": "stream",
          "text": [
            "100%|██████████| 22/22 [00:00<00:00, 31.15it/s]\n",
            " 18%|█▊        | 4/22 [00:00<00:00, 33.15it/s]"
          ],
          "name": "stderr"
        },
        {
          "output_type": "stream",
          "text": [
            "{'ner': 15.540574326330535}\n"
          ],
          "name": "stdout"
        },
        {
          "output_type": "stream",
          "text": [
            "100%|██████████| 22/22 [00:00<00:00, 32.58it/s]\n",
            " 18%|█▊        | 4/22 [00:00<00:00, 31.88it/s]"
          ],
          "name": "stderr"
        },
        {
          "output_type": "stream",
          "text": [
            "{'ner': 8.539027862774685}\n"
          ],
          "name": "stdout"
        },
        {
          "output_type": "stream",
          "text": [
            "100%|██████████| 22/22 [00:00<00:00, 32.24it/s]\n",
            " 14%|█▎        | 3/22 [00:00<00:00, 29.60it/s]"
          ],
          "name": "stderr"
        },
        {
          "output_type": "stream",
          "text": [
            "{'ner': 8.62194629496428}\n"
          ],
          "name": "stdout"
        },
        {
          "output_type": "stream",
          "text": [
            "100%|██████████| 22/22 [00:00<00:00, 31.21it/s]\n",
            " 18%|█▊        | 4/22 [00:00<00:00, 31.44it/s]"
          ],
          "name": "stderr"
        },
        {
          "output_type": "stream",
          "text": [
            "{'ner': 7.274996921074903}\n"
          ],
          "name": "stdout"
        },
        {
          "output_type": "stream",
          "text": [
            "100%|██████████| 22/22 [00:00<00:00, 31.67it/s]\n",
            " 18%|█▊        | 4/22 [00:00<00:00, 32.13it/s]"
          ],
          "name": "stderr"
        },
        {
          "output_type": "stream",
          "text": [
            "{'ner': 5.181363633536956}\n"
          ],
          "name": "stdout"
        },
        {
          "output_type": "stream",
          "text": [
            "100%|██████████| 22/22 [00:00<00:00, 31.53it/s]\n",
            " 18%|█▊        | 4/22 [00:00<00:00, 31.94it/s]"
          ],
          "name": "stderr"
        },
        {
          "output_type": "stream",
          "text": [
            "{'ner': 4.426440903852574}\n"
          ],
          "name": "stdout"
        },
        {
          "output_type": "stream",
          "text": [
            "100%|██████████| 22/22 [00:00<00:00, 29.47it/s]\n",
            " 14%|█▎        | 3/22 [00:00<00:00, 27.63it/s]"
          ],
          "name": "stderr"
        },
        {
          "output_type": "stream",
          "text": [
            "{'ner': 8.922949935706582}\n"
          ],
          "name": "stdout"
        },
        {
          "output_type": "stream",
          "text": [
            "100%|██████████| 22/22 [00:00<00:00, 28.59it/s]\n",
            " 14%|█▎        | 3/22 [00:00<00:00, 29.94it/s]"
          ],
          "name": "stderr"
        },
        {
          "output_type": "stream",
          "text": [
            "{'ner': 8.942463768262757}\n"
          ],
          "name": "stdout"
        },
        {
          "output_type": "stream",
          "text": [
            "100%|██████████| 22/22 [00:00<00:00, 27.87it/s]\n",
            " 14%|█▎        | 3/22 [00:00<00:00, 25.76it/s]"
          ],
          "name": "stderr"
        },
        {
          "output_type": "stream",
          "text": [
            "{'ner': 8.006421296269771}\n"
          ],
          "name": "stdout"
        },
        {
          "output_type": "stream",
          "text": [
            "100%|██████████| 22/22 [00:00<00:00, 26.00it/s]\n",
            " 14%|█▎        | 3/22 [00:00<00:00, 27.41it/s]"
          ],
          "name": "stderr"
        },
        {
          "output_type": "stream",
          "text": [
            "{'ner': 10.298593480868783}\n"
          ],
          "name": "stdout"
        },
        {
          "output_type": "stream",
          "text": [
            "100%|██████████| 22/22 [00:00<00:00, 25.49it/s]\n",
            " 14%|█▎        | 3/22 [00:00<00:00, 26.63it/s]"
          ],
          "name": "stderr"
        },
        {
          "output_type": "stream",
          "text": [
            "{'ner': 5.187729560258628}\n"
          ],
          "name": "stdout"
        },
        {
          "output_type": "stream",
          "text": [
            "100%|██████████| 22/22 [00:00<00:00, 23.89it/s]\n",
            " 14%|█▎        | 3/22 [00:00<00:00, 22.78it/s]"
          ],
          "name": "stderr"
        },
        {
          "output_type": "stream",
          "text": [
            "{'ner': 6.212123902194653}\n"
          ],
          "name": "stdout"
        },
        {
          "output_type": "stream",
          "text": [
            "100%|██████████| 22/22 [00:00<00:00, 22.55it/s]\n",
            " 14%|█▎        | 3/22 [00:00<00:00, 24.68it/s]"
          ],
          "name": "stderr"
        },
        {
          "output_type": "stream",
          "text": [
            "{'ner': 7.136372356647945}\n"
          ],
          "name": "stdout"
        },
        {
          "output_type": "stream",
          "text": [
            "100%|██████████| 22/22 [00:00<00:00, 23.32it/s]\n",
            " 14%|█▎        | 3/22 [00:00<00:00, 23.48it/s]"
          ],
          "name": "stderr"
        },
        {
          "output_type": "stream",
          "text": [
            "{'ner': 2.6602241452417577}\n"
          ],
          "name": "stdout"
        },
        {
          "output_type": "stream",
          "text": [
            "100%|██████████| 22/22 [00:00<00:00, 23.05it/s]\n",
            " 14%|█▎        | 3/22 [00:00<00:00, 24.22it/s]"
          ],
          "name": "stderr"
        },
        {
          "output_type": "stream",
          "text": [
            "{'ner': 5.246559868029237}\n"
          ],
          "name": "stdout"
        },
        {
          "output_type": "stream",
          "text": [
            "100%|██████████| 22/22 [00:00<00:00, 23.20it/s]\n",
            " 14%|█▎        | 3/22 [00:00<00:00, 24.85it/s]"
          ],
          "name": "stderr"
        },
        {
          "output_type": "stream",
          "text": [
            "{'ner': 2.7164818740192556}\n"
          ],
          "name": "stdout"
        },
        {
          "output_type": "stream",
          "text": [
            "100%|██████████| 22/22 [00:00<00:00, 22.95it/s]\n",
            " 14%|█▎        | 3/22 [00:00<00:00, 23.05it/s]"
          ],
          "name": "stderr"
        },
        {
          "output_type": "stream",
          "text": [
            "{'ner': 0.599888183221386}\n"
          ],
          "name": "stdout"
        },
        {
          "output_type": "stream",
          "text": [
            "100%|██████████| 22/22 [00:00<00:00, 22.53it/s]\n",
            " 14%|█▎        | 3/22 [00:00<00:00, 24.54it/s]"
          ],
          "name": "stderr"
        },
        {
          "output_type": "stream",
          "text": [
            "{'ner': 7.952176164904577}\n"
          ],
          "name": "stdout"
        },
        {
          "output_type": "stream",
          "text": [
            "100%|██████████| 22/22 [00:00<00:00, 22.70it/s]\n",
            " 14%|█▎        | 3/22 [00:00<00:00, 22.54it/s]"
          ],
          "name": "stderr"
        },
        {
          "output_type": "stream",
          "text": [
            "{'ner': 1.894889142176026}\n"
          ],
          "name": "stdout"
        },
        {
          "output_type": "stream",
          "text": [
            "100%|██████████| 22/22 [00:00<00:00, 22.87it/s]\n",
            " 14%|█▎        | 3/22 [00:00<00:00, 23.24it/s]"
          ],
          "name": "stderr"
        },
        {
          "output_type": "stream",
          "text": [
            "{'ner': 3.1462274667810637}\n"
          ],
          "name": "stdout"
        },
        {
          "output_type": "stream",
          "text": [
            "100%|██████████| 22/22 [00:00<00:00, 22.16it/s]\n",
            " 14%|█▎        | 3/22 [00:00<00:00, 23.56it/s]"
          ],
          "name": "stderr"
        },
        {
          "output_type": "stream",
          "text": [
            "{'ner': 8.928273709190332}\n"
          ],
          "name": "stdout"
        },
        {
          "output_type": "stream",
          "text": [
            "100%|██████████| 22/22 [00:00<00:00, 22.94it/s]\n",
            " 14%|█▎        | 3/22 [00:00<00:00, 21.88it/s]"
          ],
          "name": "stderr"
        },
        {
          "output_type": "stream",
          "text": [
            "{'ner': 0.15290090710725793}\n"
          ],
          "name": "stdout"
        },
        {
          "output_type": "stream",
          "text": [
            "100%|██████████| 22/22 [00:00<00:00, 23.05it/s]\n",
            " 14%|█▎        | 3/22 [00:00<00:00, 24.39it/s]"
          ],
          "name": "stderr"
        },
        {
          "output_type": "stream",
          "text": [
            "{'ner': 2.2040762464379946}\n"
          ],
          "name": "stdout"
        },
        {
          "output_type": "stream",
          "text": [
            "100%|██████████| 22/22 [00:00<00:00, 22.55it/s]\n",
            " 14%|█▎        | 3/22 [00:00<00:00, 21.51it/s]"
          ],
          "name": "stderr"
        },
        {
          "output_type": "stream",
          "text": [
            "{'ner': 0.41886598546855636}\n"
          ],
          "name": "stdout"
        },
        {
          "output_type": "stream",
          "text": [
            "100%|██████████| 22/22 [00:00<00:00, 22.50it/s]\n",
            " 14%|█▎        | 3/22 [00:00<00:00, 24.33it/s]"
          ],
          "name": "stderr"
        },
        {
          "output_type": "stream",
          "text": [
            "{'ner': 2.5393680074610026}\n"
          ],
          "name": "stdout"
        },
        {
          "output_type": "stream",
          "text": [
            "100%|██████████| 22/22 [00:00<00:00, 23.86it/s]\n",
            "  9%|▉         | 2/22 [00:00<00:01, 19.99it/s]"
          ],
          "name": "stderr"
        },
        {
          "output_type": "stream",
          "text": [
            "{'ner': 8.665932206711927}\n"
          ],
          "name": "stdout"
        },
        {
          "output_type": "stream",
          "text": [
            "100%|██████████| 22/22 [00:00<00:00, 23.60it/s]\n",
            " 14%|█▎        | 3/22 [00:00<00:00, 22.75it/s]"
          ],
          "name": "stderr"
        },
        {
          "output_type": "stream",
          "text": [
            "{'ner': 0.6507821594932734}\n"
          ],
          "name": "stdout"
        },
        {
          "output_type": "stream",
          "text": [
            "100%|██████████| 22/22 [00:00<00:00, 23.45it/s]\n",
            " 14%|█▎        | 3/22 [00:00<00:00, 25.29it/s]"
          ],
          "name": "stderr"
        },
        {
          "output_type": "stream",
          "text": [
            "{'ner': 0.08724154544268255}\n"
          ],
          "name": "stdout"
        },
        {
          "output_type": "stream",
          "text": [
            "100%|██████████| 22/22 [00:00<00:00, 24.62it/s]\n",
            " 14%|█▎        | 3/22 [00:00<00:00, 25.15it/s]"
          ],
          "name": "stderr"
        },
        {
          "output_type": "stream",
          "text": [
            "{'ner': 0.5861737906349184}\n"
          ],
          "name": "stdout"
        },
        {
          "output_type": "stream",
          "text": [
            "100%|██████████| 22/22 [00:00<00:00, 25.39it/s]\n",
            " 14%|█▎        | 3/22 [00:00<00:00, 27.08it/s]"
          ],
          "name": "stderr"
        },
        {
          "output_type": "stream",
          "text": [
            "{'ner': 0.012324508593935805}\n"
          ],
          "name": "stdout"
        },
        {
          "output_type": "stream",
          "text": [
            "100%|██████████| 22/22 [00:00<00:00, 25.97it/s]\n",
            " 14%|█▎        | 3/22 [00:00<00:00, 28.90it/s]"
          ],
          "name": "stderr"
        },
        {
          "output_type": "stream",
          "text": [
            "{'ner': 0.8668909208259619}\n"
          ],
          "name": "stdout"
        },
        {
          "output_type": "stream",
          "text": [
            "100%|██████████| 22/22 [00:00<00:00, 26.95it/s]\n",
            " 14%|█▎        | 3/22 [00:00<00:00, 27.33it/s]"
          ],
          "name": "stderr"
        },
        {
          "output_type": "stream",
          "text": [
            "{'ner': 0.4264509801762884}\n"
          ],
          "name": "stdout"
        },
        {
          "output_type": "stream",
          "text": [
            "100%|██████████| 22/22 [00:00<00:00, 27.82it/s]\n",
            " 14%|█▎        | 3/22 [00:00<00:00, 29.16it/s]"
          ],
          "name": "stderr"
        },
        {
          "output_type": "stream",
          "text": [
            "{'ner': 3.689753556680951}\n"
          ],
          "name": "stdout"
        },
        {
          "output_type": "stream",
          "text": [
            "100%|██████████| 22/22 [00:00<00:00, 28.81it/s]\n",
            " 14%|█▎        | 3/22 [00:00<00:00, 27.88it/s]"
          ],
          "name": "stderr"
        },
        {
          "output_type": "stream",
          "text": [
            "{'ner': 2.309661450024625}\n"
          ],
          "name": "stdout"
        },
        {
          "output_type": "stream",
          "text": [
            "100%|██████████| 22/22 [00:00<00:00, 30.35it/s]\n",
            " 18%|█▊        | 4/22 [00:00<00:00, 31.85it/s]"
          ],
          "name": "stderr"
        },
        {
          "output_type": "stream",
          "text": [
            "{'ner': 3.2137193522125496}\n"
          ],
          "name": "stdout"
        },
        {
          "output_type": "stream",
          "text": [
            "100%|██████████| 22/22 [00:00<00:00, 30.96it/s]\n",
            " 18%|█▊        | 4/22 [00:00<00:00, 33.77it/s]"
          ],
          "name": "stderr"
        },
        {
          "output_type": "stream",
          "text": [
            "{'ner': 0.8168593295149964}\n"
          ],
          "name": "stdout"
        },
        {
          "output_type": "stream",
          "text": [
            "100%|██████████| 22/22 [00:00<00:00, 31.51it/s]\n",
            " 18%|█▊        | 4/22 [00:00<00:00, 30.70it/s]"
          ],
          "name": "stderr"
        },
        {
          "output_type": "stream",
          "text": [
            "{'ner': 2.3698719422197794}\n"
          ],
          "name": "stdout"
        },
        {
          "output_type": "stream",
          "text": [
            "100%|██████████| 22/22 [00:00<00:00, 32.41it/s]\n",
            " 18%|█▊        | 4/22 [00:00<00:00, 32.92it/s]"
          ],
          "name": "stderr"
        },
        {
          "output_type": "stream",
          "text": [
            "{'ner': 1.2690871547136592e-06}\n"
          ],
          "name": "stdout"
        },
        {
          "output_type": "stream",
          "text": [
            "100%|██████████| 22/22 [00:00<00:00, 32.36it/s]\n",
            " 18%|█▊        | 4/22 [00:00<00:00, 34.02it/s]"
          ],
          "name": "stderr"
        },
        {
          "output_type": "stream",
          "text": [
            "{'ner': 0.17732064384487012}\n"
          ],
          "name": "stdout"
        },
        {
          "output_type": "stream",
          "text": [
            "100%|██████████| 22/22 [00:00<00:00, 32.63it/s]\n",
            " 14%|█▎        | 3/22 [00:00<00:00, 29.81it/s]"
          ],
          "name": "stderr"
        },
        {
          "output_type": "stream",
          "text": [
            "{'ner': 0.1736873047429601}\n"
          ],
          "name": "stdout"
        },
        {
          "output_type": "stream",
          "text": [
            "100%|██████████| 22/22 [00:00<00:00, 31.19it/s]\n",
            " 18%|█▊        | 4/22 [00:00<00:00, 34.08it/s]"
          ],
          "name": "stderr"
        },
        {
          "output_type": "stream",
          "text": [
            "{'ner': 0.036847902618322007}\n"
          ],
          "name": "stdout"
        },
        {
          "output_type": "stream",
          "text": [
            "100%|██████████| 22/22 [00:00<00:00, 32.33it/s]\n",
            " 18%|█▊        | 4/22 [00:00<00:00, 33.62it/s]"
          ],
          "name": "stderr"
        },
        {
          "output_type": "stream",
          "text": [
            "{'ner': 2.296715932274638}\n"
          ],
          "name": "stdout"
        },
        {
          "output_type": "stream",
          "text": [
            "100%|██████████| 22/22 [00:00<00:00, 30.94it/s]\n",
            " 18%|█▊        | 4/22 [00:00<00:00, 33.22it/s]"
          ],
          "name": "stderr"
        },
        {
          "output_type": "stream",
          "text": [
            "{'ner': 0.7015780723414664}\n"
          ],
          "name": "stdout"
        },
        {
          "output_type": "stream",
          "text": [
            "100%|██████████| 22/22 [00:00<00:00, 31.88it/s]\n",
            " 18%|█▊        | 4/22 [00:00<00:00, 31.62it/s]"
          ],
          "name": "stderr"
        },
        {
          "output_type": "stream",
          "text": [
            "{'ner': 1.0227445050149893}\n"
          ],
          "name": "stdout"
        },
        {
          "output_type": "stream",
          "text": [
            "100%|██████████| 22/22 [00:00<00:00, 29.94it/s]\n",
            " 18%|█▊        | 4/22 [00:00<00:00, 30.91it/s]"
          ],
          "name": "stderr"
        },
        {
          "output_type": "stream",
          "text": [
            "{'ner': 0.0006238029057574732}\n"
          ],
          "name": "stdout"
        },
        {
          "output_type": "stream",
          "text": [
            "100%|██████████| 22/22 [00:00<00:00, 28.51it/s]\n",
            " 14%|█▎        | 3/22 [00:00<00:00, 29.47it/s]"
          ],
          "name": "stderr"
        },
        {
          "output_type": "stream",
          "text": [
            "{'ner': 0.05916918321892841}\n"
          ],
          "name": "stdout"
        },
        {
          "output_type": "stream",
          "text": [
            "100%|██████████| 22/22 [00:00<00:00, 27.32it/s]\n",
            " 14%|█▎        | 3/22 [00:00<00:00, 24.97it/s]"
          ],
          "name": "stderr"
        },
        {
          "output_type": "stream",
          "text": [
            "{'ner': 1.9346924031605894}\n"
          ],
          "name": "stdout"
        },
        {
          "output_type": "stream",
          "text": [
            "100%|██████████| 22/22 [00:00<00:00, 24.51it/s]\n",
            " 14%|█▎        | 3/22 [00:00<00:00, 23.37it/s]"
          ],
          "name": "stderr"
        },
        {
          "output_type": "stream",
          "text": [
            "{'ner': 1.0752966691166295}\n"
          ],
          "name": "stdout"
        },
        {
          "output_type": "stream",
          "text": [
            "100%|██████████| 22/22 [00:01<00:00, 21.80it/s]\n",
            "  9%|▉         | 2/22 [00:00<00:01, 19.89it/s]"
          ],
          "name": "stderr"
        },
        {
          "output_type": "stream",
          "text": [
            "{'ner': 3.190884780500816}\n"
          ],
          "name": "stdout"
        },
        {
          "output_type": "stream",
          "text": [
            "100%|██████████| 22/22 [00:01<00:00, 19.26it/s]\n",
            "  9%|▉         | 2/22 [00:00<00:01, 18.24it/s]"
          ],
          "name": "stderr"
        },
        {
          "output_type": "stream",
          "text": [
            "{'ner': 3.9057760129316645}\n"
          ],
          "name": "stdout"
        },
        {
          "output_type": "stream",
          "text": [
            "100%|██████████| 22/22 [00:01<00:00, 18.38it/s]\n",
            "  9%|▉         | 2/22 [00:00<00:01, 17.07it/s]"
          ],
          "name": "stderr"
        },
        {
          "output_type": "stream",
          "text": [
            "{'ner': 0.7799367874203444}\n"
          ],
          "name": "stdout"
        },
        {
          "output_type": "stream",
          "text": [
            "100%|██████████| 22/22 [00:01<00:00, 17.49it/s]\n",
            "  9%|▉         | 2/22 [00:00<00:01, 17.71it/s]"
          ],
          "name": "stderr"
        },
        {
          "output_type": "stream",
          "text": [
            "{'ner': 1.9198500468088169}\n"
          ],
          "name": "stdout"
        },
        {
          "output_type": "stream",
          "text": [
            "100%|██████████| 22/22 [00:01<00:00, 17.20it/s]\n",
            "  9%|▉         | 2/22 [00:00<00:01, 17.70it/s]"
          ],
          "name": "stderr"
        },
        {
          "output_type": "stream",
          "text": [
            "{'ner': 0.5981196927508348}\n"
          ],
          "name": "stdout"
        },
        {
          "output_type": "stream",
          "text": [
            "100%|██████████| 22/22 [00:01<00:00, 17.03it/s]\n",
            "  9%|▉         | 2/22 [00:00<00:01, 17.12it/s]"
          ],
          "name": "stderr"
        },
        {
          "output_type": "stream",
          "text": [
            "{'ner': 8.140848079648012e-05}\n"
          ],
          "name": "stdout"
        },
        {
          "output_type": "stream",
          "text": [
            "100%|██████████| 22/22 [00:01<00:00, 16.36it/s]\n",
            "  9%|▉         | 2/22 [00:00<00:01, 16.92it/s]"
          ],
          "name": "stderr"
        },
        {
          "output_type": "stream",
          "text": [
            "{'ner': 2.003300179849701}\n"
          ],
          "name": "stdout"
        },
        {
          "output_type": "stream",
          "text": [
            "100%|██████████| 22/22 [00:01<00:00, 16.33it/s]\n",
            "  9%|▉         | 2/22 [00:00<00:01, 16.79it/s]"
          ],
          "name": "stderr"
        },
        {
          "output_type": "stream",
          "text": [
            "{'ner': 9.644694392061324e-05}\n"
          ],
          "name": "stdout"
        },
        {
          "output_type": "stream",
          "text": [
            "100%|██████████| 22/22 [00:01<00:00, 16.24it/s]\n",
            "  9%|▉         | 2/22 [00:00<00:01, 15.98it/s]"
          ],
          "name": "stderr"
        },
        {
          "output_type": "stream",
          "text": [
            "{'ner': 1.029597210407577e-06}\n"
          ],
          "name": "stdout"
        },
        {
          "output_type": "stream",
          "text": [
            "100%|██████████| 22/22 [00:01<00:00, 15.74it/s]\n",
            "  9%|▉         | 2/22 [00:00<00:01, 15.89it/s]"
          ],
          "name": "stderr"
        },
        {
          "output_type": "stream",
          "text": [
            "{'ner': 2.038814661000564}\n"
          ],
          "name": "stdout"
        },
        {
          "output_type": "stream",
          "text": [
            "100%|██████████| 22/22 [00:01<00:00, 15.55it/s]"
          ],
          "name": "stderr"
        },
        {
          "output_type": "stream",
          "text": [
            "{'ner': 4.042655297324369}\n"
          ],
          "name": "stdout"
        },
        {
          "output_type": "stream",
          "text": [
            "\n"
          ],
          "name": "stderr"
        }
      ]
    },
    {
      "cell_type": "code",
      "metadata": {
        "id": "Zlg7QyDN4ai_"
      },
      "source": [
        "import matplotlib.pyplot as plt"
      ],
      "execution_count": 8,
      "outputs": []
    },
    {
      "cell_type": "code",
      "metadata": {
        "colab": {
          "base_uri": "https://localhost:8080/",
          "height": 295
        },
        "id": "riPWV6fKCcZX",
        "outputId": "987236e0-cf99-4d2d-8731-393d80cbf2a2"
      },
      "source": [
        "loss_train = loss_log\n",
        "epochs=range(1,76)\n",
        "plt.plot(epochs, loss_train, 'g', label='Training loss')\n",
        "plt.title('Training loss')\n",
        "plt.xlabel('Epochs')\n",
        "plt.ylabel('Loss')\n",
        "plt.legend()\n",
        "plt.show()"
      ],
      "execution_count": 9,
      "outputs": [
        {
          "output_type": "display_data",
          "data": {
            "image/png": "[encoded data removed]",
            "text/plain": [
              "<Figure size 432x288 with 1 Axes>"
            ]
          },
          "metadata": {
            "tags": [],
            "needs_background": "light"
          }
        }
      ]
    },
    {
      "cell_type": "code",
      "metadata": {
        "id": "5TPtlUdF-o1i",
        "colab": {
          "base_uri": "https://localhost:8080/"
        },
        "outputId": "f09794ea-62a6-457b-ab48-b57ea739a22b"
      },
      "source": [
        "# Test the trained model\n",
        "test_text = 'switch off the tv in livingroom'\n",
        "doc = nlp(test_text)\n",
        "print(\"Entities in '%s'\" % test_text)\n",
        "for ent in doc.ents:\n",
        "    print(ent.label_, ent.text)"
      ],
      "execution_count": 10,
      "outputs": [
        {
          "output_type": "stream",
          "text": [
            "Entities in 'switch off the tv in livingroom'\n",
            "B-action switch\n",
            "B-state off\n",
            "B-device tv\n",
            "B-room livingroom\n"
          ],
          "name": "stdout"
        }
      ]
    },
    {
      "cell_type": "code",
      "metadata": {
        "colab": {
          "base_uri": "https://localhost:8080/"
        },
        "id": "jwIM3gwtCyTL",
        "outputId": "8ce273ef-3e08-4cc1-c5cc-9f0524a3f3e6"
      },
      "source": [
        "if output_dir is not None:\n",
        "    output_dir = Path(output_dir)\n",
        "    if not output_dir.exists():\n",
        "        output_dir.mkdir()\n",
        "    nlp.to_disk(output_dir)\n",
        "    print(\"Saved model to\", output_dir)"
      ],
      "execution_count": null,
      "outputs": [
        {
          "output_type": "stream",
          "text": [
            "Saved model to /content/gdrive/MyDrive/Samsung-Prism\n"
          ],
          "name": "stdout"
        }
      ]
    },
    {
      "cell_type": "code",
      "metadata": {
        "id": "xz6luwxAEzNO"
      },
      "source": [
        ""
      ],
      "execution_count": null,
      "outputs": []
    }
  ]
}